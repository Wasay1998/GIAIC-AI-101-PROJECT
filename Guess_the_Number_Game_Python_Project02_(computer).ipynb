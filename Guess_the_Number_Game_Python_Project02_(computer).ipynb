{
  "nbformat": 4,
  "nbformat_minor": 0,
  "metadata": {
    "colab": {
      "provenance": [],
      "authorship_tag": "ABX9TyOY4DJzbwqpVH83g1UUvvo9",
      "include_colab_link": true
    },
    "kernelspec": {
      "name": "python3",
      "display_name": "Python 3"
    },
    "language_info": {
      "name": "python"
    }
  },
  "cells": [
    {
      "cell_type": "markdown",
      "metadata": {
        "id": "view-in-github",
        "colab_type": "text"
      },
      "source": [
        "<a href=\"https://colab.research.google.com/github/Wasay1998/GIAIC-AI-101-PROJECT/blob/main/Guess_the_Number_Game_Python_Project02_(computer).ipynb\" target=\"_parent\"><img src=\"https://colab.research.google.com/assets/colab-badge.svg\" alt=\"Open In Colab\"/></a>"
      ]
    },
    {
      "cell_type": "markdown",
      "source": [
        "# **GIAIC Project AI-101/2**\n",
        "# **Guess the Number Game Python Project (computer)**"
      ],
      "metadata": {
        "id": "Zuly24Oyi74-"
      }
    },
    {
      "cell_type": "code",
      "source": [
        "import random\n",
        "\n",
        "# Computer selects a random number between 1 and 20\n",
        "secret_number = random.randint(1, 20)\n",
        "print(\"🎯 I have selected a number between 1 and 20. Can you guess it? \")\n",
        "\n",
        "while True:\n",
        "    try:\n",
        "        # Taking user input\n",
        "        guess = int(input(\"🔢 Enter your guess: \"))\n",
        "\n",
        "        # Checking the guess\n",
        "        if guess < secret_number:\n",
        "            print(\"📉 Too low! Try again. 🔄\")\n",
        "        elif guess > secret_number:\n",
        "            print(\"📈 Too high! Try again. 🔄\")\n",
        "        else:\n",
        "            print(f\"🎉 Correct! The number was {secret_number}. You guessed it! 🏆✨\")\n",
        "            break  # End the game\n",
        "\n",
        "    except ValueError:\n",
        "        print(\"⚠️ Please enter a valid number! 🚫\")"
      ],
      "metadata": {
        "colab": {
          "base_uri": "https://localhost:8080/"
        },
        "id": "oIH13EOfi8EY",
        "outputId": "922204e1-e14c-423c-9777-60b3ae068f36"
      },
      "execution_count": null,
      "outputs": [
        {
          "output_type": "stream",
          "name": "stdout",
          "text": [
            "🎯 I have selected a number between 1 and 20. Can you guess it? \n",
            "🔢 Enter your guess: 16\n",
            "📈 Too high! Try again. 🔄\n",
            "🔢 Enter your guess: 12\n",
            "📈 Too high! Try again. 🔄\n",
            "🔢 Enter your guess: 8\n",
            "📈 Too high! Try again. 🔄\n",
            "🔢 Enter your guess: 6\n",
            "🎉 Correct! The number was 6. You guessed it! 🏆✨\n"
          ]
        }
      ]
    }
  ]
}