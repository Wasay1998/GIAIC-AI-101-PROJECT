{
  "nbformat": 4,
  "nbformat_minor": 0,
  "metadata": {
    "colab": {
      "provenance": [],
      "authorship_tag": "ABX9TyOSI8FLRqc+gfgu2w1CWCVg",
      "include_colab_link": true
    },
    "kernelspec": {
      "name": "python3",
      "display_name": "Python 3"
    },
    "language_info": {
      "name": "python"
    }
  },
  "cells": [
    {
      "cell_type": "markdown",
      "metadata": {
        "id": "view-in-github",
        "colab_type": "text"
      },
      "source": [
        "<a href=\"https://colab.research.google.com/github/Wasay1998/GIAIC-AI-101-PROJECT/blob/main/Guess_the_Number_Game_Python_Project03_(user).ipynb\" target=\"_parent\"><img src=\"https://colab.research.google.com/assets/colab-badge.svg\" alt=\"Open In Colab\"/></a>"
      ]
    },
    {
      "cell_type": "markdown",
      "source": [
        "# **GIAIC Project AI-101/3**\n",
        "# **Guess the Number Game Python Project (user)**"
      ],
      "metadata": {
        "id": "71bXkcC7j3qY"
      }
    },
    {
      "cell_type": "code",
      "source": [
        "import random\n",
        "\n",
        "def mind_reader():\n",
        "    low = 1\n",
        "    high = 10\n",
        "\n",
        "    print(\"🧠 Think of a number between 1 and 10, and I'll try to read your mind! 🔮\")\n",
        "\n",
        "    while low <= high:\n",
        "        guess = random.randint(low, high)\n",
        "        print(f\"🤖 Is your number {guess}? 🤔\")\n",
        "\n",
        "        feedback = input(\"🔼 Enter 'h' if too high, 🔽 'l' if too low, ✅ 'c' if correct: \").lower()\n",
        "\n",
        "        if feedback == \"h\":\n",
        "            high = guess - 1\n",
        "            print(\"📉 Okay, I'll guess lower! ⬇️\")\n",
        "        elif feedback == \"l\":\n",
        "            low = guess + 1\n",
        "            print(\"📈 Got it! I'll try a higher number. ⬆️\")\n",
        "        elif feedback == \"c\":\n",
        "            print(f\"🎉 Woohoo! I guessed your number {guess} correctly! 🏆🎊\")\n",
        "            break\n",
        "        else:\n",
        "            print(\"⚠️ Oops! Invalid input. Please enter only 'h', 'l', or 'c'. 🚫\")\n",
        "\n",
        "    if low > high:\n",
        "        print(\"😅 Uh-oh... Looks like something went wrong. Let's try again! 🔄\")\n",
        "\n",
        "# Run the game\n",
        "mind_reader()\n"
      ],
      "metadata": {
        "colab": {
          "base_uri": "https://localhost:8080/"
        },
        "id": "-oHyU-PDj3zY",
        "outputId": "02c2004c-919f-49a3-f8bf-43753e715667"
      },
      "execution_count": null,
      "outputs": [
        {
          "output_type": "stream",
          "name": "stdout",
          "text": [
            "🧠 Think of a number between 1 and 10, and I'll try to read your mind! 🔮\n",
            "🤖 Is your number 10? 🤔\n",
            "🔼 Enter 'h' if too high, 🔽 'l' if too low, ✅ 'c' if correct: h\n",
            "📉 Okay, I'll guess lower! ⬇️\n",
            "🤖 Is your number 4? 🤔\n",
            "🔼 Enter 'h' if too high, 🔽 'l' if too low, ✅ 'c' if correct: l\n",
            "📈 Got it! I'll try a higher number. ⬆️\n",
            "🤖 Is your number 9? 🤔\n",
            "🔼 Enter 'h' if too high, 🔽 'l' if too low, ✅ 'c' if correct: h\n",
            "📉 Okay, I'll guess lower! ⬇️\n",
            "🤖 Is your number 5? 🤔\n",
            "🔼 Enter 'h' if too high, 🔽 'l' if too low, ✅ 'c' if correct: c\n",
            "🎉 Woohoo! I guessed your number 5 correctly! 🏆🎊\n"
          ]
        }
      ]
    }
  ]
}