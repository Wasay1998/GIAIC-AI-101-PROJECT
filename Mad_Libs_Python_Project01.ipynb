{
  "nbformat": 4,
  "nbformat_minor": 0,
  "metadata": {
    "colab": {
      "provenance": [],
      "include_colab_link": true
    },
    "kernelspec": {
      "name": "python3",
      "display_name": "Python 3"
    },
    "language_info": {
      "name": "python"
    }
  },
  "cells": [
    {
      "cell_type": "markdown",
      "metadata": {
        "id": "view-in-github",
        "colab_type": "text"
      },
      "source": [
        "<a href=\"https://colab.research.google.com/github/Wasay1998/GIAIC-AI-101-PROJECT/blob/main/Mad_Libs_Python_Project01.ipynb\" target=\"_parent\"><img src=\"https://colab.research.google.com/assets/colab-badge.svg\" alt=\"Open In Colab\"/></a>"
      ]
    },
    {
      "cell_type": "markdown",
      "source": [
        "# **GIAIC Project AI-101/1**\n",
        "# **Mad Libs Story Generator**"
      ],
      "metadata": {
        "id": "8pTcrnCv-5Pd"
      }
    },
    {
      "cell_type": "code",
      "execution_count": null,
      "metadata": {
        "colab": {
          "base_uri": "https://localhost:8080/"
        },
        "id": "opQnvX_Mdg8z",
        "outputId": "3647e1ec-da1b-4501-8a6b-7f52a50e50b4"
      },
      "outputs": [
        {
          "output_type": "stream",
          "name": "stdout",
          "text": [
            "\n",
            "⚔️ Welcome to the Ultimate Titan Battle Mad Libs Game! 🪐🔥\n",
            "\n",
            "Enter a hero's name: Tony Stark\n",
            "Enter the enemy's name: Thanos\n",
            "Name a battlefield planet: Titan\n",
            "Enter a powerful weapon: Nano Gaunlet\n",
            "A powerful attack move: repulsar blast barrage\n",
            "A massive object: moon\n",
            "Describe the impact : exploded\n",
            "A heroic phrase : let's end this\n",
            "\n",
            "🌌 The battle on Titan was intense. Tony Stark and the Avengers were fighting with everything they had against Thanos.\n",
            "Tony Stark took a deep breath and gripped their Nano Gaunlet, ready for the final showdown.\n",
            "\n",
            "Suddenly, Tony Stark unleashed a repulsar blast barrage, forcing Thanos to stumble back.\n",
            "Seizing the moment, Tony Stark used their tech to drop a massive moon from above, hoping to pin Thanos down.\n",
            "\n",
            "But Thanos was too strong! With a single roar, they broke free and lifted their hand toward the sky.\n",
            "The ground trembled as Thanos summoned a moon and exploded towards the battlefield.\n",
            "\n",
            "As debris rained down, Tony Stark barely dodged, standing firm despite the chaos.\n",
            "Looking at Thanos, Tony Stark smirked and said, 'let's end this'. The fight was far from over! ⚡🔥\n",
            "\n"
          ]
        }
      ],
      "source": [
        "print(\"\\n⚔️ Welcome to the Ultimate Titan Battle Mad Libs Game! 🪐🔥\\n\")\n",
        "\n",
        "# User Inputs\n",
        "hero = input(\"Enter a hero's name: \")\n",
        "enemy = input(\"Enter the enemy's name: \")\n",
        "planet = input(\"Name a battlefield planet: \")\n",
        "weapon = input(\"Enter a powerful weapon: \")\n",
        "power_move = input(\"A powerful attack move: \")\n",
        "object = input(\"A massive object: \")\n",
        "impact = input(\"Describe the impact : \")\n",
        "final_phrase = input(\"A heroic phrase : \")\n",
        "\n",
        "# Story\n",
        "story = f\"\"\"\n",
        "🌌 The battle on {planet} was intense. {hero} and the Avengers were fighting with everything they had against {enemy}.\n",
        "{hero} took a deep breath and gripped their {weapon}, ready for the final showdown.\n",
        "\n",
        "Suddenly, {hero} unleashed a {power_move}, forcing {enemy} to stumble back.\n",
        "Seizing the moment, {hero} used their tech to drop a massive {object} from above, hoping to pin {enemy} down.\n",
        "\n",
        "But {enemy} was too strong! With a single roar, they broke free and lifted their hand toward the sky.\n",
        "The ground trembled as {enemy} summoned a {object} and {impact} towards the battlefield.\n",
        "\n",
        "As debris rained down, {hero} barely dodged, standing firm despite the chaos.\n",
        "Looking at {enemy}, {hero} smirked and said, '{final_phrase}'. The fight was far from over! ⚡🔥\n",
        "\"\"\"\n",
        "\n",
        "print(story)\n"
      ]
    }
  ]
}