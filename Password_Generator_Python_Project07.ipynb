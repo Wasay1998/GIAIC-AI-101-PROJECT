{
  "nbformat": 4,
  "nbformat_minor": 0,
  "metadata": {
    "colab": {
      "provenance": [],
      "authorship_tag": "ABX9TyO097AOzJSjraiBoQnMAGeS",
      "include_colab_link": true
    },
    "kernelspec": {
      "name": "python3",
      "display_name": "Python 3"
    },
    "language_info": {
      "name": "python"
    }
  },
  "cells": [
    {
      "cell_type": "markdown",
      "metadata": {
        "id": "view-in-github",
        "colab_type": "text"
      },
      "source": [
        "<a href=\"https://colab.research.google.com/github/Wasay1998/GIAIC-AI-101-PROJECT/blob/main/Password_Generator_Python_Project07.ipynb\" target=\"_parent\"><img src=\"https://colab.research.google.com/assets/colab-badge.svg\" alt=\"Open In Colab\"/></a>"
      ]
    },
    {
      "cell_type": "markdown",
      "source": [
        "# **GIAIC Project AI-101/7**\n",
        "# **Password Generator Python Project**"
      ],
      "metadata": {
        "id": "HRnUhiqKnFuO"
      }
    },
    {
      "cell_type": "code",
      "source": [
        "import random\n",
        "\n",
        "print('Welcome To Your Password Generator 🔑')\n",
        "\n",
        "chars = 'abcdefghijklmnopqrstABCDEFGHIJKLMNOPQRST!@#$%^&*().,?123456789'\n",
        "\n",
        "number = int(input('Amount of passwords to generate: '))\n",
        "length = int(input('Input your password length: '))\n",
        "\n",
        "print('\\nHere are your passwords:\\n')\n",
        "\n",
        "for _ in range(number):\n",
        "    password = ''\n",
        "    for _ in range(length):\n",
        "        password += random.choice(chars)  # Randomly select characters\n",
        "    print(password)  # Print after generating the full password\n"
      ],
      "metadata": {
        "colab": {
          "base_uri": "https://localhost:8080/"
        },
        "id": "d-8golLpnF3U",
        "outputId": "9105c095-a7ce-4750-ece3-703cba36deba"
      },
      "execution_count": null,
      "outputs": [
        {
          "output_type": "stream",
          "name": "stdout",
          "text": [
            "Welcome To Your Password Generator 🔑\n",
            "Amount of passwords to generate: 5\n",
            "Input your password length: 5\n",
            "\n",
            "Here are your passwords:\n",
            "\n",
            ")q,)o\n",
            "c*?I7\n",
            "(I.mP\n",
            "l9m9*\n",
            "#l!Eg\n"
          ]
        }
      ]
    }
  ]
}