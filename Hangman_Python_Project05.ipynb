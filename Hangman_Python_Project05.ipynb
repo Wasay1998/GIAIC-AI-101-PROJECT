{
  "nbformat": 4,
  "nbformat_minor": 0,
  "metadata": {
    "colab": {
      "provenance": [],
      "authorship_tag": "ABX9TyOC0jZv3zkKYcziSbxTqzFl",
      "include_colab_link": true
    },
    "kernelspec": {
      "name": "python3",
      "display_name": "Python 3"
    },
    "language_info": {
      "name": "python"
    }
  },
  "cells": [
    {
      "cell_type": "markdown",
      "metadata": {
        "id": "view-in-github",
        "colab_type": "text"
      },
      "source": [
        "<a href=\"https://colab.research.google.com/github/Wasay1998/GIAIC-AI-101-PROJECT/blob/main/Hangman_Python_Project05.ipynb\" target=\"_parent\"><img src=\"https://colab.research.google.com/assets/colab-badge.svg\" alt=\"Open In Colab\"/></a>"
      ]
    },
    {
      "cell_type": "markdown",
      "source": [
        "# **GIAIC Project AI-101/5**\n",
        "# **Hangman Python Project**"
      ],
      "metadata": {
        "id": "3XPU66B7mHDO"
      }
    },
    {
      "cell_type": "code",
      "source": [
        "import random\n",
        "\n",
        "def choose_word():\n",
        "    words = [\"python\", \"hangman\", \"developer\", \"programming\", \"challenge\"]\n",
        "    return random.choice(words)\n",
        "\n",
        "def display_word(word, guessed_letters):\n",
        "    return \" \".join([letter if letter in guessed_letters else \"_\" for letter in word])\n",
        "\n",
        "def hangman():\n",
        "    word = choose_word()\n",
        "    guessed_letters = set()\n",
        "    attempts = 6\n",
        "\n",
        "    print(\"🎭 Welcome to Hangman! Try to guess the word.\")\n",
        "\n",
        "    while attempts > 0:\n",
        "        print(f\"\\nWord: {display_word(word, guessed_letters)}\")\n",
        "        print(f\"Attempts left: {attempts}\")\n",
        "        guess = input(\"Guess a letter: \").lower()\n",
        "\n",
        "        if len(guess) != 1 or not guess.isalpha():\n",
        "            print(\"⚠️ Please enter a single valid letter.\")\n",
        "            continue\n",
        "\n",
        "        if guess in guessed_letters:\n",
        "            print(\"🔁 You already guessed that letter!\")\n",
        "            continue\n",
        "\n",
        "        guessed_letters.add(guess)\n",
        "\n",
        "        if guess in word:\n",
        "            print(\"✅ Good guess!\")\n",
        "            if all(letter in guessed_letters for letter in word):\n",
        "                print(f\"🎉 Congratulations! You guessed the word: {word}\")\n",
        "                return\n",
        "        else:\n",
        "            attempts -= 1\n",
        "            print(\"❌ Incorrect guess!\")\n",
        "\n",
        "    print(f\"💀 Game over! The word was: {word}\")\n",
        "\n",
        "if __name__ == \"__main__\":\n",
        "    hangman()\n"
      ],
      "metadata": {
        "colab": {
          "base_uri": "https://localhost:8080/"
        },
        "id": "ha3P9GYPmIG9",
        "outputId": "123986ee-868b-4898-e520-0ae6fdbb6f3f"
      },
      "execution_count": null,
      "outputs": [
        {
          "output_type": "stream",
          "name": "stdout",
          "text": [
            "🎭 Welcome to Hangman! Try to guess the word.\n",
            "\n",
            "Word: _ _ _ _ _ _\n",
            "Attempts left: 6\n",
            "Guess a letter: p\n",
            "✅ Good guess!\n",
            "\n",
            "Word: p _ _ _ _ _\n",
            "Attempts left: 6\n",
            "Guess a letter: y\n",
            "✅ Good guess!\n",
            "\n",
            "Word: p y _ _ _ _\n",
            "Attempts left: 6\n",
            "Guess a letter: t\n",
            "✅ Good guess!\n",
            "\n",
            "Word: p y t _ _ _\n",
            "Attempts left: 6\n",
            "Guess a letter: o\n",
            "✅ Good guess!\n",
            "\n",
            "Word: p y t _ o _\n",
            "Attempts left: 6\n",
            "Guess a letter: n\n",
            "✅ Good guess!\n",
            "\n",
            "Word: p y t _ o n\n",
            "Attempts left: 6\n",
            "Guess a letter: h\n",
            "✅ Good guess!\n",
            "🎉 Congratulations! You guessed the word: python\n"
          ]
        }
      ]
    }
  ]
}