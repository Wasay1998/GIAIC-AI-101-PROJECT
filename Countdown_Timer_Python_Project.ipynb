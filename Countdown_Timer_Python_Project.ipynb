{
  "nbformat": 4,
  "nbformat_minor": 0,
  "metadata": {
    "colab": {
      "provenance": [],
      "authorship_tag": "ABX9TyOwou9djwt4C4QlvVBdfDfP",
      "include_colab_link": true
    },
    "kernelspec": {
      "name": "python3",
      "display_name": "Python 3"
    },
    "language_info": {
      "name": "python"
    }
  },
  "cells": [
    {
      "cell_type": "markdown",
      "metadata": {
        "id": "view-in-github",
        "colab_type": "text"
      },
      "source": [
        "<a href=\"https://colab.research.google.com/github/Wasay1998/GIAIC-AI-101-PROJECT/blob/main/Countdown_Timer_Python_Project.ipynb\" target=\"_parent\"><img src=\"https://colab.research.google.com/assets/colab-badge.svg\" alt=\"Open In Colab\"/></a>"
      ]
    },
    {
      "cell_type": "markdown",
      "source": [
        "# **GIAIC Project AI-101/6**\n",
        "# **Countdown Timer Python Project**"
      ],
      "metadata": {
        "id": "LqDz29v9mn91"
      }
    },
    {
      "cell_type": "code",
      "source": [
        "import time\n",
        "import sys\n",
        "\n",
        "def countdown_timer(total_seconds):\n",
        "    print(\"\\n🔥 Countdown Started! Get Ready... 🚀\\n\")\n",
        "\n",
        "    for remaining in range(total_seconds, -1, -1):\n",
        "        mins, secs = divmod(remaining, 60)\n",
        "        timer = f\"{mins:02d}:{secs:02d}\"\n",
        "\n",
        "        # Create a dynamic progress bar (20 blocks wide)\n",
        "        progress = int(((total_seconds - remaining) / total_seconds) * 20) if total_seconds > 0 else 20\n",
        "        bar = \"[\" + \"█\" * progress + \"-\" * (20 - progress) + \"]\"\n",
        "\n",
        "        # Display the timer with a progress bar on the same line\n",
        "        sys.stdout.write(f\"\\r⏳ {timer} {bar}\")\n",
        "        sys.stdout.flush()\n",
        "\n",
        "        time.sleep(1)\n",
        "\n",
        "    print(\"\\n\\n🎉🚨 Time's up! ⏰ Well done! 🎯🎊\\n\")\n",
        "\n",
        "try:\n",
        "    total_seconds = int(input(\"\\n⏲️ Enter countdown time in seconds: \"))\n",
        "\n",
        "    if total_seconds <= 0:\n",
        "        print(\"⚠️ Please enter a positive number. Try again!\")\n",
        "    else:\n",
        "        countdown_timer(total_seconds)\n",
        "\n",
        "except ValueError:\n",
        "    print(\"⚠️ Invalid input! Please enter a valid number.\")"
      ],
      "metadata": {
        "colab": {
          "base_uri": "https://localhost:8080/"
        },
        "id": "E9zoeCUTmoHO",
        "outputId": "99661e1b-7e22-4bc1-fda4-29d8764c28da"
      },
      "execution_count": null,
      "outputs": [
        {
          "output_type": "stream",
          "name": "stdout",
          "text": [
            "\n",
            "⏲️ Enter countdown time in seconds: 10\n",
            "\n",
            "🔥 Countdown Started! Get Ready... 🚀\n",
            "\n",
            "⏳ 00:00 [████████████████████]\n",
            "\n",
            "🎉🚨 Time's up! ⏰ Well done! 🎯🎊\n",
            "\n"
          ]
        }
      ]
    }
  ]
}