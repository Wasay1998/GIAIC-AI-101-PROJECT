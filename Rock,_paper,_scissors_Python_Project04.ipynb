{
  "nbformat": 4,
  "nbformat_minor": 0,
  "metadata": {
    "colab": {
      "provenance": [],
      "authorship_tag": "ABX9TyOHGjC5p+6PjOF6n4p9g72K",
      "include_colab_link": true
    },
    "kernelspec": {
      "name": "python3",
      "display_name": "Python 3"
    },
    "language_info": {
      "name": "python"
    }
  },
  "cells": [
    {
      "cell_type": "markdown",
      "metadata": {
        "id": "view-in-github",
        "colab_type": "text"
      },
      "source": [
        "<a href=\"https://colab.research.google.com/github/Wasay1998/GIAIC-AI-101-PROJECT/blob/main/Rock%2C_paper%2C_scissors_Python_Project04.ipynb\" target=\"_parent\"><img src=\"https://colab.research.google.com/assets/colab-badge.svg\" alt=\"Open In Colab\"/></a>"
      ]
    },
    {
      "cell_type": "markdown",
      "source": [
        "# **GIAIC Project AI-101/4**\n",
        "# **Rock, paper, scissors Python Project**"
      ],
      "metadata": {
        "id": "8YVG9nKtlOZ_"
      }
    },
    {
      "cell_type": "code",
      "source": [
        "import random\n",
        "import time\n",
        "\n",
        "def get_computer_choice():\n",
        "    return random.choice(list(choices))\n",
        "\n",
        "def determine_winner(user, computer):\n",
        "    if user == computer:\n",
        "        return \"tie\"\n",
        "    elif (user == \"rock\" and computer == \"scissors\") or \\\n",
        "         (user == \"paper\" and computer == \"rock\") or \\\n",
        "         (user == \"scissors\" and computer == \"paper\"):\n",
        "        return \"user\"\n",
        "    else:\n",
        "        return \"computer\"\n",
        "\n",
        "choices = {\"rock\": \"🪨\", \"paper\": \"📄\", \"scissors\": \"✂️\"}\n",
        "user_score = computer_score = rounds = 0\n",
        "\n",
        "print(\"🎮 Welcome to Rock, Paper, Scissors: Battle Mode! 🏆\")\n",
        "print(\"🔔 Type 'q' anytime to quit.\")\n",
        "\n",
        "while True:\n",
        "    user = input(\"👉 Choose your move (rock/paper/scissors): \").lower()\n",
        "    if user == \"q\":\n",
        "        print(f\"\\n🏆 Final Score: You {user_score} | Computer {computer_score}\")\n",
        "        print(f\"Total Rounds Played: {rounds}\")\n",
        "        print(\"👋 Thanks for playing! Come back soon! 😊\")\n",
        "        break\n",
        "    if user not in choices:\n",
        "        print(\"⚠️ Invalid move! Please choose rock, paper, or scissors. 🚫\\n\")\n",
        "        continue\n",
        "\n",
        "    rounds += 1\n",
        "    print(\"\\n⏳ Computer is making its move...\")\n",
        "    time.sleep(1)\n",
        "    computer = get_computer_choice()\n",
        "    print(f\"🤖 Computer chose: {choices[computer]} ({computer.capitalize()})\")\n",
        "\n",
        "    result = determine_winner(user, computer)\n",
        "    if result == \"tie\":\n",
        "        print(\"🤝 It's a tie! Both moves are equal.\")\n",
        "    elif result == \"user\":\n",
        "        user_score += 1\n",
        "        print(\"🎉 You win this round! Great move! 🔥\")\n",
        "    else:\n",
        "        computer_score += 1\n",
        "        print(\"😢 You lost this round. Try again! 💪\")\n",
        "\n",
        "    print(f\"📊 Scoreboard: You {user_score} - {computer_score} Computer\")\n",
        "    print(\"------------------------------------------------\\n\")\n"
      ],
      "metadata": {
        "colab": {
          "base_uri": "https://localhost:8080/"
        },
        "id": "ih67_FVIlOh0",
        "outputId": "cb0c0bf5-ea52-4d9c-89ee-f0a37f6e3f60"
      },
      "execution_count": null,
      "outputs": [
        {
          "output_type": "stream",
          "name": "stdout",
          "text": [
            "🎮 Welcome to Rock, Paper, Scissors: Battle Mode! 🏆\n",
            "🔔 Type 'q' anytime to quit.\n",
            "👉 Choose your move (rock/paper/scissors): rock\n",
            "\n",
            "⏳ Computer is making its move...\n",
            "🤖 Computer chose: ✂️ (Scissors)\n",
            "🎉 You win this round! Great move! 🔥\n",
            "📊 Scoreboard: You 1 - 0 Computer\n",
            "------------------------------------------------\n",
            "\n",
            "👉 Choose your move (rock/paper/scissors): paper\n",
            "\n",
            "⏳ Computer is making its move...\n",
            "🤖 Computer chose: 📄 (Paper)\n",
            "🤝 It's a tie! Both moves are equal.\n",
            "📊 Scoreboard: You 1 - 0 Computer\n",
            "------------------------------------------------\n",
            "\n",
            "👉 Choose your move (rock/paper/scissors): scissors\n",
            "\n",
            "⏳ Computer is making its move...\n",
            "🤖 Computer chose: 🪨 (Rock)\n",
            "😢 You lost this round. Try again! 💪\n",
            "📊 Scoreboard: You 1 - 1 Computer\n",
            "------------------------------------------------\n",
            "\n"
          ]
        }
      ]
    }
  ]
}